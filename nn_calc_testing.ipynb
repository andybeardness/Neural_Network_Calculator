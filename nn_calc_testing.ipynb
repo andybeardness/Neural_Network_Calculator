{
 "cells": [
  {
   "cell_type": "code",
   "execution_count": 1,
   "metadata": {},
   "outputs": [],
   "source": [
    "# ==============\n",
    "# IMPORT MODULES\n",
    "# ==============\n",
    "import pandas as pd\n",
    "from sklearn.neural_network import MLPRegressor\n",
    "import pickle as pic\n",
    "\n",
    "import functions as fc"
   ]
  },
  {
   "cell_type": "code",
   "execution_count": 2,
   "metadata": {
    "scrolled": false
   },
   "outputs": [],
   "source": [
    "# =======\n",
    "# REALIZE\n",
    "# =======\n",
    "\n",
    "data_list = fc.load_data('handmade_data_simple.csv', sep=',')\n",
    "model_list = fc.make_models((50, ), (100, ), (100, 100))\n",
    "# trained_model_list = fc.train_models(model_list, data_list)"
   ]
  },
  {
   "cell_type": "code",
   "execution_count": 93,
   "metadata": {},
   "outputs": [],
   "source": [
    "fc.pickled(trained_model_list, 'trained_model_list.pickle', mode='save')"
   ]
  },
  {
   "cell_type": "code",
   "execution_count": 3,
   "metadata": {},
   "outputs": [],
   "source": [
    "data_new_test = fc.pickled(filename='trained_model_list.pickle', mode='load')"
   ]
  },
  {
   "cell_type": "code",
   "execution_count": 4,
   "metadata": {},
   "outputs": [],
   "source": [
    "nn_score_hash = {'Bashir': 0, 'Ivan': 0, 'Albina': 0}\n",
    "\n",
    "for var in range(1, 600):\n",
    "    test_list = [var, var]\n",
    "    oper = 0\n",
    "    win_name = fc.get_answer(data_new_test, values=test_list, operation=oper)['nwin']\n",
    "    nn_score_hash[win_name] += 1"
   ]
  },
  {
   "cell_type": "code",
   "execution_count": 5,
   "metadata": {},
   "outputs": [
    {
     "data": {
      "text/plain": [
       "{'Bashir': 73, 'Ivan': 524, 'Albina': 2}"
      ]
     },
     "execution_count": 5,
     "metadata": {},
     "output_type": "execute_result"
    }
   ],
   "source": [
    "nn_score_hash"
   ]
  },
  {
   "cell_type": "code",
   "execution_count": 9,
   "metadata": {},
   "outputs": [
    {
     "data": {
      "text/plain": [
       "109.0"
      ]
     },
     "execution_count": 9,
     "metadata": {},
     "output_type": "execute_result"
    }
   ],
   "source": [
    "hashik = fc.get_answer(data_new_test, values=[10, 10], operation=2)\n",
    "hashik['ans']"
   ]
  },
  {
   "cell_type": "code",
   "execution_count": 12,
   "metadata": {},
   "outputs": [
    {
     "data": {
      "text/plain": [
       "95.90637417142811"
      ]
     },
     "execution_count": 12,
     "metadata": {},
     "output_type": "execute_result"
    }
   ],
   "source": [
    "hashik['aans']"
   ]
  },
  {
   "cell_type": "code",
   "execution_count": 11,
   "metadata": {},
   "outputs": [
    {
     "data": {
      "text/plain": [
       "'Albina'"
      ]
     },
     "execution_count": 11,
     "metadata": {},
     "output_type": "execute_result"
    }
   ],
   "source": [
    "hashik['nwin']"
   ]
  },
  {
   "cell_type": "code",
   "execution_count": null,
   "metadata": {},
   "outputs": [],
   "source": []
  }
 ],
 "metadata": {
  "kernelspec": {
   "display_name": "Python 3",
   "language": "python",
   "name": "python3"
  },
  "language_info": {
   "codemirror_mode": {
    "name": "ipython",
    "version": 3
   },
   "file_extension": ".py",
   "mimetype": "text/x-python",
   "name": "python",
   "nbconvert_exporter": "python",
   "pygments_lexer": "ipython3",
   "version": "3.7.3"
  }
 },
 "nbformat": 4,
 "nbformat_minor": 2
}
